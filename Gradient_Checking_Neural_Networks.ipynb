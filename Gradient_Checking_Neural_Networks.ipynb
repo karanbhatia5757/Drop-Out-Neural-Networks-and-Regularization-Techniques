{
 "cells": [
  {
   "cell_type": "markdown",
   "metadata": {},
   "source": [
    "# Numerical Gradient Checking\n",
    "\n",
    "This code discusses a numerical gradient checking method. We compute the gradients of parameters of a 3 Layered Neural Network using Back-propagation Algorithm and then compute gradients using first principles of  derivatives and then compare both the values to ensure that back-propagation is working correctly."
   ]
  },
  {
   "cell_type": "code",
   "execution_count": 6,
   "metadata": {
    "collapsed": true
   },
   "outputs": [],
   "source": [
    "import numpy as np"
   ]
  },
  {
   "cell_type": "markdown",
   "metadata": {},
   "source": [
    "# Helper Functions"
   ]
  },
  {
   "cell_type": "code",
   "execution_count": 7,
   "metadata": {
    "collapsed": true
   },
   "outputs": [],
   "source": [
    "def sigmoid(x):\n",
    "    \"\"\"This function computes sigmoid of x where x can be a scalar or a matrix. If x is a matrix, it computes sigmoid of all the elements of x\"\"\"\n",
    "    \n",
    "    s = 1 / (1+np.exp(-x))\n",
    "    \n",
    "    return s"
   ]
  },
  {
   "cell_type": "code",
   "execution_count": 8,
   "metadata": {
    "collapsed": true
   },
   "outputs": [],
   "source": [
    "def relu(x):\n",
    "    \"\"\"This function computes relu of x where x can be a scalar or a matrix. If x is a matrix, it computes sigmoid of all the elements of x \"\"\"\n",
    "    \n",
    "    s=np.maximum(0,x)\n",
    "    \n",
    "    return s"
   ]
  },
  {
   "cell_type": "code",
   "execution_count": 10,
   "metadata": {},
   "outputs": [],
   "source": [
    "def dictionary_to_vector(parameters):\n",
    "   \"\"\"This function converts parameters into a long vector.\"\"\"\n",
    "\n",
    "    keys = []\n",
    "    count = 0\n",
    "    for key in [\"W1\", \"b1\", \"W2\", \"b2\", \"W3\", \"b3\"]:\n",
    "        \n",
    "        new_vector = np.reshape(parameters[key], (-1,1 ))           # Unrolling one by one all parameter matrices.\n",
    "        keys = keys + [key]*new_vector.shape[0]\n",
    "        \n",
    "        if count == 0:\n",
    "            theta = new_vector                                                  \n",
    "        else:\n",
    "            theta = np.concatenate((theta, new_vector), axis=0)     # Concatinating small temporary vectors into long big vector theta.\n",
    "        count = count + 1\n",
    "\n",
    "    return theta, keys\n"
   ]
  },
  {
   "cell_type": "code",
   "execution_count": 11,
   "metadata": {
    "collapsed": true
   },
   "outputs": [],
   "source": [
    "def gradients_to_vector(gradients):\n",
    "    \"\"\"\n",
    "    This function converts gradient matrices into a long vector.\n",
    "    \"\"\"\n",
    "    \n",
    "    count = 0\n",
    "    for key in [\"dW1\", \"db1\", \"dW2\", \"db2\", \"dW3\", \"db3\"]:\n",
    "        # flatten parameter\n",
    "        new_vector = np.reshape(gradients[key], (-1,1))\n",
    "        \n",
    "        if count == 0:\n",
    "            theta = new_vector\n",
    "        else:\n",
    "            theta = np.concatenate((theta, new_vector), axis=0)\n",
    "        count = count + 1\n",
    "\n",
    "    return theta"
   ]
  },
  {
   "cell_type": "code",
   "execution_count": 21,
   "metadata": {
    "collapsed": true
   },
   "outputs": [],
   "source": [
    "def vector_to_dictionary(theta):\n",
    "    \"\"\"\n",
    "    Unroll all our parameters dictionary from a single vector satisfying our specific required shape.\n",
    "    \"\"\"\n",
    "    parameters = {}\n",
    "    parameters[\"W1\"] = theta[:20].reshape((5,4))\n",
    "    parameters[\"b1\"] = theta[20:25].reshape((5,1))\n",
    "    parameters[\"W2\"] = theta[25:40].reshape((3,5))\n",
    "    parameters[\"b2\"] = theta[40:43].reshape((3,1))\n",
    "    parameters[\"W3\"] = theta[43:46].reshape((1,3))\n",
    "    parameters[\"b3\"] = theta[46:47].reshape((1,1))\n",
    "\n",
    "    return parameters"
   ]
  },
  {
   "cell_type": "markdown",
   "metadata": {},
   "source": [
    "# Forward Propagation\n",
    "\n",
    "We first perform forward propagation on a 3 Layered Neural Network and compute the Cost. The 2 hidden layers are RELU activated and the output layer is Sigmoid Activated."
   ]
  },
  {
   "cell_type": "code",
   "execution_count": 16,
   "metadata": {
    "collapsed": true
   },
   "outputs": [],
   "source": [
    "def forward_propagation_n(X, Y, parameters):\n",
    "    \"\"\" This function computes forward propagation and cost.\"\"\"\n",
    "    \n",
    "    # retrieve parameters\n",
    "    m = X.shape[1]\n",
    "    W1 = parameters[\"W1\"]\n",
    "    b1 = parameters[\"b1\"]\n",
    "    W2 = parameters[\"W2\"]\n",
    "    b2 = parameters[\"b2\"]\n",
    "    W3 = parameters[\"W3\"]\n",
    "    b3 = parameters[\"b3\"]\n",
    "    \n",
    "    Z1 = np.dot(W1 , X) + b1    # Linear part of first hidden layer.\n",
    "    A1 = relu(Z1)                       # Activation of first hidden layer.   \n",
    "    Z2 = np.dot(W2 , A1) + b2  \n",
    "    A2 = relu(Z2)\n",
    "    Z3 = np.dot(W3 , A2) + b3\n",
    "    A3 = sigmoid(Z3)\n",
    "    \n",
    "    logprobs = - np.multiply(np.log(A3) , Y) - np.multiply(np.log(1-A3), 1-Y)\n",
    "    cost = 1./m * np.sum(logprobs)\n",
    "    \n",
    "    cache = (Z1, A1, W1, b1, Z2, A2, W2, b2, Z3, A3, W3, b3)\n",
    "    \n",
    "    return cost, cache\n",
    "    "
   ]
  },
  {
   "cell_type": "markdown",
   "metadata": {},
   "source": [
    "# Back Propagation"
   ]
  },
  {
   "cell_type": "code",
   "execution_count": 17,
   "metadata": {
    "collapsed": true
   },
   "outputs": [],
   "source": [
    "def backward_propagation_n( X , Y, cache):\n",
    "    \"\"\"This function computes gradient using backpropagation algorithm.\"\"\"\n",
    "    m = X.shape[1]\n",
    "    (Z1, A1, W1, b1, Z2, A2, W2, b2, Z3, A3, W3, b3) = cache\n",
    "    \n",
    "    dZ3 = A3 - Y                                                                                # Gradient of Cost w.r.t Z3.\n",
    "    dW3 = 1./m * np.dot(dZ3, A2.T)                                                 # Gradient of Cost w.r.t W3\n",
    "    db3 = 1./m * np.sum(dZ3, axis=1, keepdims = True)                 # Gradient of cost w.r.t b3.\n",
    "    \n",
    "    dA2 = np.dot(W3.T, dZ3)\n",
    "    dZ2 = np.multiply(dA2, np.int64(A2 > 0))\n",
    "    dW2 = 1./m * np.dot(dZ2, A1.T) * 2\n",
    "    db2 = 1./m * np.sum(dZ2, axis=1, keepdims = True)\n",
    "    \n",
    "    dA1 = np.dot(W2.T, dZ2)\n",
    "    dZ1 = np.multiply(dA1, np.int64(A1 > 0))\n",
    "    dW1 = 1./m * np.dot(dZ1, X.T)\n",
    "    db1 = 4./m * np.sum(dZ1, axis=1, keepdims = True)\n",
    "    \n",
    "    gradients = {\"dZ3\": dZ3, \"dW3\": dW3, \"db3\": db3,\n",
    "                 \"dA2\": dA2, \"dZ2\": dZ2, \"dW2\": dW2, \"db2\": db2,\n",
    "                 \"dA1\": dA1, \"dZ1\": dZ1, \"dW1\": dW1, \"db1\": db1}\n",
    "    \n",
    "    return gradients"
   ]
  },
  {
   "cell_type": "markdown",
   "metadata": {},
   "source": [
    "# Gradient Checking Using GradApprox\n",
    "\n",
    "\n",
    "\n",
    "$gradapprox[i] = \\frac{J^{+}_i - J^{-}_i}{2 \\varepsilon}$"
   ]
  },
  {
   "cell_type": "code",
   "execution_count": 22,
   "metadata": {
    "collapsed": true
   },
   "outputs": [],
   "source": [
    "def gradient_check_n(parameters, gradients, X, Y, epsilon = 1e-7):\n",
    "    \n",
    "    parameters_values, _ = dictionary_to_vector(parameters)    # Converts all parameter matrices into a long vector.\n",
    "    grad = gradients_to_vector(gradients)                                   # Converts all gradient matrices into a long vector. \n",
    "    num_parameters = parameters_values.shape[0]                    # Number of total paarameters.\n",
    "    J_plus = np.zeros((num_parameters, 1))                                # Initializing a long vector of zeros of same shape as parameters_values.\n",
    "    J_minus = np.zeros((num_parameters, 1))                             # Initializing a long vector of zeros of same shape as parameters_values.\n",
    "    gradapprox = np.zeros((num_parameters, 1))                        # Initializing a long vector of zeros of same shape as parameters_values.\n",
    "    \n",
    "    \n",
    "    # Computing Grad approx:\n",
    "    \n",
    "    for i in range(num_parameters):\n",
    "        \n",
    "        # Computing J_plus[i]\n",
    "        thetaplus = np.copy(parameters_values)                                                                                          # Copying parameters_values to thetaplus vector.\n",
    "        thetaplus[i][0] = thetaplus[i][0] + epsilon                                                                                        # Computing thetaplus[i] + epsilon.\n",
    "        J_plus[i], _ = forward_propagation_n(X, Y, vector_to_dictionary(thetaplus))                               # Computing J_plus[i]\n",
    "        \n",
    "        \n",
    "        # Computing J_minus[i]\n",
    "        thetaminus = np.copy(parameters_values)                                                                                       # Copying parameters_values to thetaplus vector.\n",
    "        thetaminus[i][0] = thetaminus[i][0] - epsilon                                                                                   # Computing thetaminus[i] + epsilon.\n",
    "        J_minus[i], _ = forward_propagation_n(X, Y, vector_to_dictionary(thetaminus))                         # Computing J_minus[i]    \n",
    "        \n",
    "        # Computing gradapprox[i] using the formula given above.\n",
    "        gradapprox[i] = (J_plus[i] - J_minus[i]) / (2 * epsilon)\n",
    "        \n",
    "        # Comparing the 2 vectors i.e. grad and gradapprox.\n",
    "         \n",
    "    numerator = np.linalg.norm(grad - gradapprox)                                                                             # Norm of difference of 2 vectors.\n",
    "    denominator = np.linalg.norm(grad) + np.linalg.norm(gradapprox)                                              # Norm of difference of 2 vectors.   \n",
    "    difference = numerator/denominator          \n",
    "        \n",
    "    if difference > 2e-7:\n",
    "        print (\"\\033[93m\" + \"There is a mistake in the backward propagation! difference = \" + str(difference) + \"\\033[0m\")\n",
    "    else:\n",
    "        print (\"\\033[92m\" + \"Your backward propagation works perfectly fine! difference = \" + str(difference) + \"\\033[0m\")\n",
    "    \n",
    "    return difference\n",
    "        "
   ]
  },
  {
   "cell_type": "code",
   "execution_count": 23,
   "metadata": {
    "collapsed": true
   },
   "outputs": [],
   "source": [
    "def gradient_check_n_test_case(): \n",
    "    np.random.seed(1)\n",
    "    x = np.random.randn(4,3)\n",
    "    y = np.array([1, 1, 0])\n",
    "    W1 = np.random.randn(5,4) \n",
    "    b1 = np.random.randn(5,1) \n",
    "    W2 = np.random.randn(3,5) \n",
    "    b2 = np.random.randn(3,1) \n",
    "    W3 = np.random.randn(1,3) \n",
    "    b3 = np.random.randn(1,1) \n",
    "    parameters = {\"W1\": W1,\n",
    "                  \"b1\": b1,\n",
    "                  \"W2\": W2,\n",
    "                  \"b2\": b2,\n",
    "                  \"W3\": W3,\n",
    "                  \"b3\": b3}\n",
    "\n",
    "    \n",
    "    return x, y, parameters"
   ]
  },
  {
   "cell_type": "code",
   "execution_count": 24,
   "metadata": {},
   "outputs": [
    {
     "name": "stdout",
     "output_type": "stream",
     "text": [
      "\u001b[93mThere is a mistake in the backward propagation! difference = 0.285093156781\u001b[0m\n"
     ]
    }
   ],
   "source": [
    "X, Y, parameters = gradient_check_n_test_case()\n",
    "\n",
    "cost, cache = forward_propagation_n(X, Y, parameters)\n",
    "gradients = backward_propagation_n(X, Y, cache)\n",
    "difference = gradient_check_n(parameters, gradients, X, Y)"
   ]
  }
 ],
 "metadata": {
  "kernelspec": {
   "display_name": "Python 3",
   "language": "python",
   "name": "python3"
  },
  "language_info": {
   "codemirror_mode": {
    "name": "ipython",
    "version": 3
   },
   "file_extension": ".py",
   "mimetype": "text/x-python",
   "name": "python",
   "nbconvert_exporter": "python",
   "pygments_lexer": "ipython3",
   "version": "3.6.3"
  }
 },
 "nbformat": 4,
 "nbformat_minor": 2
}
